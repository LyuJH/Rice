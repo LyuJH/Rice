{
 "cells": [
  {
   "cell_type": "code",
   "execution_count": 1,
   "id": "e34ab5e0",
   "metadata": {},
   "outputs": [
    {
     "name": "stdout",
     "output_type": "stream",
     "text": [
      "D:\\Project\\Python\\rice\n"
     ]
    }
   ],
   "source": [
    "%cd D:/Project/Python/rice"
   ]
  },
  {
   "cell_type": "code",
   "execution_count": 2,
   "id": "c18c26cb",
   "metadata": {
    "collapsed": true
   },
   "outputs": [
    {
     "name": "stdout",
     "output_type": "stream",
     "text": [
      " ������ D �еľ��� Data\n",
      " �������к��� 2406-F272\n",
      "\n",
      " D:\\Project\\Python\\rice_noAUG ��Ŀ¼\n",
      "\n",
      "2022/04/24  20:42    <DIR>          .\n",
      "2022/04/24  20:43    <DIR>          ..\n",
      "2021/02/25  16:42             1,057 .gitignore\n",
      "2022/04/25  14:24    <DIR>          .idea\n",
      "2021/02/25  16:42               800 .pre-commit-config.yaml\n",
      "2021/02/25  16:42                48 .style.yapf\n",
      "2022/04/24  20:42    <DIR>          .travis\n",
      "2021/02/25  16:42               809 .travis.yml\n",
      "2022/04/24  20:42    <DIR>          .vscode\n",
      "2022/04/24  20:42    <DIR>          application\n",
      "2022/04/24  20:45    <DIR>          configs\n",
      "2022/04/24  20:42    <DIR>          contrib\n",
      "2022/04/17  21:30             5,740 data-augment.py\n",
      "2022/04/24  20:42    <DIR>          dataset\n",
      "2022/04/24  20:42    <DIR>          demo\n",
      "2022/04/24  20:42    <DIR>          deploy\n",
      "2022/04/24  20:42    <DIR>          docs\n",
      "2022/04/24  20:42    <DIR>          dygraph\n",
      "2022/04/24  20:42    <DIR>          images\n",
      "2022/04/24  20:42    <DIR>          img_out\n",
      "2021/02/25  16:42            11,357 LICENSE\n",
      "2022/04/24  20:53    <DIR>          model\n",
      "2022/04/24  20:42    <DIR>          output\n",
      "2022/04/16  20:05             1,183 path.py\n",
      "2022/04/17  21:26               127 perpare_voc_label.py\n",
      "2022/04/24  20:42    <DIR>          ppdet\n",
      "2022/04/17  21:32               826 prepare_voc_data.py\n",
      "2022/04/17  21:48                75 README.md\n",
      "2022/04/22  14:40               287 rename.py\n",
      "2021/02/25  16:42                87 requirements.txt\n",
      "2022/04/24  20:42    <DIR>          slim\n",
      "2022/04/24  20:42    <DIR>          tools\n",
      "2022/04/24  20:42    <DIR>          vdl_log_dir\n",
      "              12 ���ļ�         22,396 �ֽ�\n",
      "              21 ��Ŀ¼ 91,305,877,504 �����ֽ�\n"
     ]
    }
   ],
   "source": [
    "%ls"
   ]
  },
  {
   "cell_type": "code",
   "execution_count": null,
   "id": "d1ef0d88",
   "metadata": {},
   "outputs": [],
   "source": [
    "#安装依赖库\n",
    "%pip install -r requirements.txt"
   ]
  },
  {
   "cell_type": "code",
   "execution_count": null,
   "id": "84fec624",
   "metadata": {},
   "outputs": [],
   "source": [
    "#终端运行\n",
    "#训练模型\n",
    "!python -u tools/train.py -o num_classes=2 -o save_dir=model/ -c configs/yolov3_mobilenet_v1_voc.yml --eval --use_vdl=True"
   ]
  },
  {
   "cell_type": "code",
   "execution_count": null,
   "id": "eba9e58b",
   "metadata": {},
   "outputs": [],
   "source": [
    "#终端运行\n",
    "#断点训练\n",
    "!python -u tools/train.py -o num_classes=2 -o save_dir=model/ -c configs/yolov3_mobilenet_v1_voc.yml -r model/yolov3_mobilenet_v1/156000 --eval --use_vdl=True"
   ]
  },
  {
   "cell_type": "code",
   "execution_count": null,
   "id": "7a0e5022",
   "metadata": {},
   "outputs": [],
   "source": [
    "#终端运行\n",
    "#模型评估\n",
    "!python -u tools/eval.py -c configs/yolov3_mobilenet_v1_voc.yml -o weights=model/yolov3_mobilenet_v1_voc/best_model"
   ]
  },
  {
   "cell_type": "code",
   "execution_count": 8,
   "id": "7d8a73da",
   "metadata": {},
   "outputs": [
    {
     "name": "stdout",
     "output_type": "stream",
     "text": [
      "转换结束\n"
     ]
    },
    {
     "name": "stderr",
     "output_type": "stream",
     "text": [
      "2022-05-11 19:10:42,886-INFO: Load categories from dataset/voc/label_list.txt\n",
      "2022-05-11 19:10:42,890-INFO: Export inference config file to output/ssd_mobilenet_v1_voc\\infer_cfg.yml\n",
      "2022-05-11 19:10:42,985-INFO: save_inference_model pruned unused feed variables im_id\n",
      "2022-05-11 19:10:42,985-INFO: save_inference_model pruned unused feed variables im_shape\n",
      "2022-05-11 19:10:42,985-INFO: Export inference model to output/ssd_mobilenet_v1_voc, input: ['image'], output: ['detection_output_0.tmp_0']...\n"
     ]
    }
   ],
   "source": [
    "#模型转换\n",
    "!python -u tools/export_model.py -c configs/ssd/ssd_mobilenet_v1_voc.yml --output_dir=output/ -o weights=model/ssd_mobilenet_v1_voc/best_model\n",
    "print(\"转换结束\")"
   ]
  },
  {
   "cell_type": "code",
   "execution_count": 34,
   "id": "13d3fc26",
   "metadata": {
    "collapsed": true
   },
   "outputs": [
    {
     "name": "stdout",
     "output_type": "stream",
     "text": [
      "转换结束\n"
     ]
    },
    {
     "name": "stderr",
     "output_type": "stream",
     "text": [
      "2022-05-05 14:28:51,097-INFO: Load categories from dataset/voc/label_list.txt\n",
      "2022-05-05 14:28:51,100-INFO: Export inference config file to output/yolov3_mobilenet_v1_voc\\infer_cfg.yml\n",
      "2022-05-05 14:28:51,210-INFO: save_inference_model pruned unused feed variables im_id\n",
      "2022-05-05 14:28:51,210-INFO: Export inference model to output/yolov3_mobilenet_v1_voc, input: ['image', 'im_size'], output: ['multiclass_nms_0.tmp_0']...\n"
     ]
    }
   ],
   "source": [
    "#模型转换\n",
    "!python -u tools/export_model.py -c configs/yolov3_mobilenet_v1_voc.yml --output_dir=output/ -o weights=model/yolov3_mobilenet_v1_voc/best_model\n",
    "print(\"转换结束\")"
   ]
  },
  {
   "cell_type": "code",
   "execution_count": null,
   "id": "4805a748",
   "metadata": {},
   "outputs": [],
   "source": [
    "#模型转换\n",
    "!python -u tools/export_model.py -c configs/yolov4/yolov4_cspdarknet_voc.yml --output_dir=output/ -o weights=model/yolov4_cspdarknet_voc/best_model\n",
    "print(\"转换结束\")"
   ]
  },
  {
   "cell_type": "code",
   "execution_count": 12,
   "id": "f1d4d05d",
   "metadata": {
    "collapsed": true
   },
   "outputs": [
    {
     "name": "stdout",
     "output_type": "stream",
     "text": [
      "-----------  Running Arguments -----------\n",
      "camera_id: -1\n",
      "image_file: images/188.jpg\n",
      "model_dir: output/ssd_mobilenet_v1_voc/\n",
      "output_dir: img_out/ssd/\n",
      "run_benchmark: False\n",
      "run_mode: fluid\n",
      "threshold: 0.18\n",
      "use_gpu: False\n",
      "video_file: \n",
      "------------------------------------------\n",
      "-----------  Model Configuration -----------\n",
      "Model Arch: SSD\n",
      "Use Paddle Executor: False\n",
      "Transform Order: \n",
      "--transform op: Resize\n",
      "--transform op: Permute\n",
      "--transform op: Normalize\n",
      "--------------------------------------------\n",
      "Inference: 132.10701942443848 ms per batch image\n",
      "class_id:1, confidence:0.3346,left_top:[85.89,185.08], right_bottom:[145.26,233.57]\n",
      "save result to: img_out/ssd/188.jpg\n",
      "推理结束\n"
     ]
    },
    {
     "name": "stderr",
     "output_type": "stream",
     "text": [
      "W0511 20:27:15.431639 37324 analysis_predictor.cc:1350] Deprecated. Please use CreatePredictor instead.\n"
     ]
    }
   ],
   "source": [
    "#模型推理\n",
    "!python -u deploy/python/infer.py --model_dir=output/ssd_mobilenet_v1_voc/ --image_file=images/188.jpg --output_dir=img_out/ssd/ --threshold=0.18\n",
    "print(\"推理结束\")"
   ]
  },
  {
   "cell_type": "code",
   "execution_count": 35,
   "id": "dd80d270",
   "metadata": {
    "collapsed": true
   },
   "outputs": [
    {
     "name": "stdout",
     "output_type": "stream",
     "text": [
      "-----------  Running Arguments -----------\n",
      "camera_id: -1\n",
      "image_file: images/150.jpg\n",
      "model_dir: output/yolov3_mobilenet_v1_voc/\n",
      "output_dir: img_out/yolov3/\n",
      "run_benchmark: False\n",
      "run_mode: fluid\n",
      "threshold: 0.18\n",
      "use_gpu: False\n",
      "video_file: \n",
      "------------------------------------------\n",
      "-----------  Model Configuration -----------\n",
      "Model Arch: YOLO\n",
      "Use Paddle Executor: False\n",
      "Transform Order: \n",
      "--transform op: Resize\n",
      "--transform op: Normalize\n",
      "--transform op: Permute\n",
      "--------------------------------------------\n",
      "Inference: 1488.7592792510986 ms per batch image\n",
      "class_id:0, confidence:0.2200,left_top:[114.10,45.30], right_bottom:[156.97,88.05]\n",
      "save result to: img_out/yolov3/150.jpg\n",
      "推理结束\n"
     ]
    },
    {
     "name": "stderr",
     "output_type": "stream",
     "text": [
      "W0505 14:29:01.521966 54016 analysis_predictor.cc:1350] Deprecated. Please use CreatePredictor instead.\n"
     ]
    }
   ],
   "source": [
    "#模型推理\n",
    "!python -u deploy/python/infer.py --model_dir=output/yolov3_mobilenet_v1_voc/ --image_file=images/150.jpg --output_dir=img_out/yolov3/ --threshold=0.18\n",
    "print(\"推理结束\")"
   ]
  },
  {
   "cell_type": "code",
   "execution_count": 2,
   "id": "ed5e19ae",
   "metadata": {
    "collapsed": true
   },
   "outputs": [
    {
     "name": "stdout",
     "output_type": "stream",
     "text": [
      "-----------  Running Arguments -----------\n",
      "camera_id: -1\n",
      "image_file: images/150.jpg\n",
      "model_dir: output/yolov4_cspdarknet_voc/backup_6/\n",
      "output_dir: img_out/yolov4/\n",
      "run_benchmark: False\n",
      "run_mode: fluid\n",
      "threshold: 0.18\n",
      "use_gpu: False\n",
      "video_file: \n",
      "------------------------------------------\n",
      "-----------  Model Configuration -----------\n",
      "Model Arch: YOLO\n",
      "Use Paddle Executor: False\n",
      "Transform Order: \n",
      "--transform op: Resize\n",
      "--transform op: Normalize\n",
      "--transform op: Permute\n",
      "--------------------------------------------\n",
      "Inference: 4313.119173049927 ms per batch image\n",
      "class_id:0, confidence:0.9777,left_top:[111.98,36.87], right_bottom:[156.01,84.38]\n",
      "class_id:0, confidence:0.9005,left_top:[37.65,60.46], right_bottom:[105.15,172.96]\n",
      "class_id:0, confidence:0.6611,left_top:[174.25,186.69], right_bottom:[192.40,205.61]\n",
      "class_id:0, confidence:0.3925,left_top:[70.29,142.45], right_bottom:[99.63,169.81]\n",
      "class_id:0, confidence:0.3674,left_top:[135.89,104.00], right_bottom:[171.41,173.00]\n",
      "class_id:0, confidence:0.2497,left_top:[64.64,116.44], right_bottom:[82.67,126.90]\n",
      "save result to: img_out/yolov4/150.jpg\n",
      "推理结束\n"
     ]
    },
    {
     "name": "stderr",
     "output_type": "stream",
     "text": [
      "W0507 22:53:38.290746 18480 analysis_predictor.cc:1350] Deprecated. Please use CreatePredictor instead.\n"
     ]
    }
   ],
   "source": [
    "#模型推理\n",
    "!python -u deploy/python/infer.py --model_dir=output/yolov4_cspdarknet_voc/backup_6/ --image_file=images/150.jpg --output_dir=img_out/yolov4/ --threshold=0.18\n",
    "print(\"推理结束\")"
   ]
  },
  {
   "cell_type": "code",
   "execution_count": 4,
   "id": "7f317d37",
   "metadata": {
    "collapsed": true
   },
   "outputs": [
    {
     "name": "stdout",
     "output_type": "stream",
     "text": [
      "100.jpg 15.jpg 150.jpg 200.jpg 256.jpg 4.jpg 40.jpg Input image filename:150\n",
      "img_out/yolov4/150.jpg\n",
      "\n",
      "Input image filename:150\n",
      "img_out/yolov4/150.jpg\n",
      "0\n",
      "Input image filename:q\n",
      "img_out/yolov4/q.jpg\n"
     ]
    },
    {
     "ename": "FileNotFoundError",
     "evalue": "[Errno 2] No such file or directory: 'img_out/yolov4/q.jpg'",
     "output_type": "error",
     "traceback": [
      "\u001b[1;31m---------------------------------------------------------------------------\u001b[0m",
      "\u001b[1;31mFileNotFoundError\u001b[0m                         Traceback (most recent call last)",
      "\u001b[1;32m~\\AppData\\Local\\Temp/ipykernel_13268/593591997.py\u001b[0m in \u001b[0;36m<module>\u001b[1;34m\u001b[0m\n\u001b[0;32m     11\u001b[0m     \u001b[0mimg\u001b[0m \u001b[1;33m=\u001b[0m \u001b[0mfilesDir\u001b[0m \u001b[1;33m+\u001b[0m \u001b[0mimg\u001b[0m \u001b[1;33m+\u001b[0m \u001b[1;34m\".jpg\"\u001b[0m\u001b[1;33m\u001b[0m\u001b[1;33m\u001b[0m\u001b[0m\n\u001b[0;32m     12\u001b[0m     \u001b[0mprint\u001b[0m\u001b[1;33m(\u001b[0m\u001b[0mimg\u001b[0m\u001b[1;33m)\u001b[0m\u001b[1;33m\u001b[0m\u001b[1;33m\u001b[0m\u001b[0m\n\u001b[1;32m---> 13\u001b[1;33m     \u001b[0mimg\u001b[0m\u001b[1;33m=\u001b[0m\u001b[0mImage\u001b[0m\u001b[1;33m.\u001b[0m\u001b[0mopen\u001b[0m\u001b[1;33m(\u001b[0m\u001b[0mimg\u001b[0m\u001b[1;33m)\u001b[0m\u001b[1;33m\u001b[0m\u001b[1;33m\u001b[0m\u001b[0m\n\u001b[0m\u001b[0;32m     14\u001b[0m     \u001b[0mimg\u001b[0m\u001b[1;33m.\u001b[0m\u001b[0mshow\u001b[0m\u001b[1;33m(\u001b[0m\u001b[1;33m)\u001b[0m\u001b[1;33m\u001b[0m\u001b[1;33m\u001b[0m\u001b[0m\n\u001b[0;32m     15\u001b[0m     \u001b[0mtemp\u001b[0m \u001b[1;33m=\u001b[0m \u001b[0minput\u001b[0m\u001b[1;33m(\u001b[0m\u001b[1;33m)\u001b[0m\u001b[1;33m\u001b[0m\u001b[1;33m\u001b[0m\u001b[0m\n",
      "\u001b[1;32mD:\\software\\Anaconda3\\envs\\paddle_env\\lib\\site-packages\\PIL\\Image.py\u001b[0m in \u001b[0;36mopen\u001b[1;34m(fp, mode, formats)\u001b[0m\n\u001b[0;32m   2951\u001b[0m \u001b[1;33m\u001b[0m\u001b[0m\n\u001b[0;32m   2952\u001b[0m     \u001b[1;32mif\u001b[0m \u001b[0mfilename\u001b[0m\u001b[1;33m:\u001b[0m\u001b[1;33m\u001b[0m\u001b[1;33m\u001b[0m\u001b[0m\n\u001b[1;32m-> 2953\u001b[1;33m         \u001b[0mfp\u001b[0m \u001b[1;33m=\u001b[0m \u001b[0mbuiltins\u001b[0m\u001b[1;33m.\u001b[0m\u001b[0mopen\u001b[0m\u001b[1;33m(\u001b[0m\u001b[0mfilename\u001b[0m\u001b[1;33m,\u001b[0m \u001b[1;34m\"rb\"\u001b[0m\u001b[1;33m)\u001b[0m\u001b[1;33m\u001b[0m\u001b[1;33m\u001b[0m\u001b[0m\n\u001b[0m\u001b[0;32m   2954\u001b[0m         \u001b[0mexclusive_fp\u001b[0m \u001b[1;33m=\u001b[0m \u001b[1;32mTrue\u001b[0m\u001b[1;33m\u001b[0m\u001b[1;33m\u001b[0m\u001b[0m\n\u001b[0;32m   2955\u001b[0m \u001b[1;33m\u001b[0m\u001b[0m\n",
      "\u001b[1;31mFileNotFoundError\u001b[0m: [Errno 2] No such file or directory: 'img_out/yolov4/q.jpg'"
     ]
    }
   ],
   "source": [
    "#显示指定图片\n",
    "import os\n",
    "from PIL import Image\n",
    "test = True\n",
    "filesDir = r\"img_out/yolov4/\"\n",
    "fileNameList = os.listdir(filesDir)\n",
    "for filename in fileNameList:\n",
    "    print(filename,end=\" \")\n",
    "while test:\n",
    "    img = input('Input image filename:')\n",
    "    img = filesDir + img + \".jpg\"\n",
    "    print(img)\n",
    "    img=Image.open(img)\n",
    "    img.show()\n",
    "    temp = input()\n",
    "    if temp == 'q':\n",
    "        break"
   ]
  },
  {
   "cell_type": "code",
   "execution_count": 5,
   "id": "e5971a3a",
   "metadata": {},
   "outputs": [],
   "source": [
    "#显示所有图片\n",
    "from PIL import Image\n",
    "import os\n",
    "filesDir = r\"img_out/\"\n",
    "fileNameList = os.listdir(filesDir)\n",
    "\n",
    "for filename in fileNameList:\n",
    "    print(filename)\n",
    "    img=Image.open(\"img_out/\" + filename)\n",
    "    img.show()\n",
    "    test=input()\n",
    "    if test == '0':\n",
    "        break"
   ]
  },
  {
   "cell_type": "code",
   "execution_count": 35,
   "id": "a2eb3685",
   "metadata": {},
   "outputs": [],
   "source": [
    "#打开visualdl\n",
    "# visualdl --logdir vdl_dir/scalar/ --port 8080"
   ]
  }
 ],
 "metadata": {
  "interpreter": {
   "hash": "099ca7229407a0349bf8f4810b7a62dbe3c93411d2dd816a8b85df0af65494c5"
  },
  "kernelspec": {
   "display_name": "Python 3.9.7 ('paddle_env')",
   "language": "python",
   "name": "python3"
  },
  "language_info": {
   "codemirror_mode": {
    "name": "ipython",
    "version": 3
   },
   "file_extension": ".py",
   "mimetype": "text/x-python",
   "name": "python",
   "nbconvert_exporter": "python",
   "pygments_lexer": "ipython3",
   "version": "3.9.7"
  }
 },
 "nbformat": 4,
 "nbformat_minor": 5
}
